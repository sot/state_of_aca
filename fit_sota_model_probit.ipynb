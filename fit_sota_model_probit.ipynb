{
 "cells": [
  {
   "cell_type": "code",
   "execution_count": 1,
   "metadata": {
    "collapsed": false
   },
   "outputs": [],
   "source": [
    "from __future__ import division\n",
    "\n",
    "import numpy as np\n",
    "import matplotlib.pyplot as plt\n",
    "from astropy.table import Table\n",
    "from astropy.time import Time\n",
    "import tables\n",
    "from scipy import stats\n",
    "\n",
    "%matplotlib inline"
   ]
  },
  {
   "cell_type": "code",
   "execution_count": 2,
   "metadata": {
    "collapsed": false
   },
   "outputs": [],
   "source": [
    "SOTA2015_FIT_ALL = [9.0122372262846735,\n",
    " 6.5882697680183346,\n",
    " -0.77727342693609758,\n",
    " -2.1477049943999713,\n",
    " 0.67132336969927486,\n",
    " 0.33209623740442562]"
   ]
  },
  {
   "cell_type": "code",
   "execution_count": 3,
   "metadata": {
    "collapsed": true
   },
   "outputs": [],
   "source": [
    "SOTA2015_FIT_NO_1P5 = [9.6887121605441173,\n",
    " 9.1613040261776177,\n",
    " -0.41919343599067715,\n",
    " -2.3829996965532048,\n",
    " 0.54998934814773903,\n",
    " 0.47839260691599156]"
   ]
  },
  {
   "cell_type": "code",
   "execution_count": 4,
   "metadata": {
    "collapsed": true
   },
   "outputs": [],
   "source": [
    "SOTA2015_FIT_ONLY_1P5 = [8.541709287866361,\n",
    " 0.44482688155644085,\n",
    " -3.5137852251178465,\n",
    " -1.3505424393223699,\n",
    " 1.5278061271148755,\n",
    " 0.30973569068842272]"
   ]
  },
  {
   "cell_type": "code",
   "execution_count": 5,
   "metadata": {
    "collapsed": false
   },
   "outputs": [],
   "source": [
    "with tables.openFile('/proj/sot/ska/data/acq_stats/acq_stats.h5', 'r') as h5:\n",
    "    cols = h5.root.data.cols\n",
    "    names = {'tstart': 'guide_tstart',\n",
    "             'obsid': 'obsid',\n",
    "             'obc_id': 'acqid',\n",
    "             'warm_pix': 'n100_warm_frac',\n",
    "             'mag': 'mag_aca',\n",
    "             'known_bad': 'known_bad',\n",
    "             'color': 'color1'}\n",
    "    acqs = Table([getattr(cols, h5_name)[:] for h5_name in names.values()],\n",
    "                 names=list(names.keys()))\n",
    "\n",
    "    year_q0 = 1999.0 + 31. / 365.25  # Jan 31 approximately\n",
    "acqs['year'] = Time(acqs['tstart'], format='cxcsec').decimalyear.astype('f4')\n",
    "acqs['quarter'] = (np.trunc((acqs['year'] - year_q0) * 4)).astype('f4')\n",
    "acqs['fail'] = 1.0 - acqs['obc_id'].astype(np.int)\n",
    "acqs['color_1p5'] = np.where(acqs['color'] == 1.5, 1, 0)"
   ]
  },
  {
   "cell_type": "code",
   "execution_count": 62,
   "metadata": {
    "collapsed": false
   },
   "outputs": [
    {
     "name": "stdout",
     "output_type": "stream",
     "text": [
      "Filtering known bad obsids, start len = 75491\n",
      "Filtering known bad obsids, end len = 75385\n"
     ]
    }
   ],
   "source": [
    "data_all = acqs.group_by('quarter')\n",
    "data_all['mag10'] = data_all['mag'] - 10.0\n",
    "data_all.sort('year')\n",
    "ok = (data_all['year'] > 2007) & (data_all['mag'] > 8.5) & (data_all['mag'] < 11.0)\n",
    "data_all = data_all[ok]\n",
    "data_all = data_all.group_by('quarter')\n",
    "data_mean = data_all.groups.aggregate(np.mean)\n",
    "\n",
    "ok = np.ones(len(data_all), dtype=bool)\n",
    "print('Filtering known bad obsids, start len = {}'.format(len(data_all)))\n",
    "bad_obsids = [\n",
    "    # Venus\n",
    "    2411,2414,6395,7306,7307,7308,7309,7311,7312,7313,7314,7315,7317,7318,7406,583,\n",
    "    7310,9741,9742,9743,9744,9745,9746,9747,9749,9752,9753,9748,7316,15292,16499,\n",
    "    16500,16501,16503,16504,16505,16506,16502,\n",
    "    ]\n",
    "for badid in bad_obsids:\n",
    "    ok = ok & (data_all['obsid'] != badid)\n",
    "data_all = data_all[ok]\n",
    "print('Filtering known bad obsids, end len = {}'.format(len(data_all)))"
   ]
  },
  {
   "cell_type": "code",
   "execution_count": 63,
   "metadata": {
    "collapsed": false
   },
   "outputs": [
    {
     "data": {
      "text/html": [
       "&lt;Table masked=False length=75385&gt;\n",
       "<table id=\"table139888696197264\">\n",
       "<thead><tr><th>obc_id</th><th>known_bad</th><th>tstart</th><th>color</th><th>warm_pix</th><th>mag</th><th>obsid</th><th>year</th><th>quarter</th><th>fail</th><th>color_1p5</th><th>mag10</th></tr></thead>\n",
       "<thead><tr><th>bool</th><th>bool</th><th>float64</th><th>float64</th><th>float64</th><th>float64</th><th>int64</th><th>float32</th><th>float32</th><th>float64</th><th>int64</th><th>float64</th></tr></thead>\n",
       "<tr><td>True</td><td>False</td><td>284017659.681</td><td>1.47899985313</td><td>0.037536239405</td><td>8.92266273499</td><td>58613</td><td>2007.0</td><td>31.0</td><td>0.0</td><td>0</td><td>-1.07733726501</td></tr>\n",
       "<tr><td>True</td><td>False</td><td>284017659.681</td><td>1.04379975796</td><td>0.037536239405</td><td>8.83009433746</td><td>58613</td><td>2007.0</td><td>31.0</td><td>0.0</td><td>0</td><td>-1.16990566254</td></tr>\n",
       "<tr><td>True</td><td>False</td><td>284017659.681</td><td>1.49089980125</td><td>0.037536239405</td><td>9.53129386902</td><td>58613</td><td>2007.0</td><td>31.0</td><td>0.0</td><td>0</td><td>-0.468706130981</td></tr>\n",
       "<tr><td>True</td><td>False</td><td>284017659.681</td><td>0.59840041399</td><td>0.037536239405</td><td>9.28877162933</td><td>58613</td><td>2007.0</td><td>31.0</td><td>0.0</td><td>0</td><td>-0.711228370667</td></tr>\n",
       "<tr><td>True</td><td>False</td><td>284017659.681</td><td>0.231200262904</td><td>0.037536239405</td><td>8.9228105545</td><td>58613</td><td>2007.0</td><td>31.0</td><td>0.0</td><td>0</td><td>-1.0771894455</td></tr>\n",
       "<tr><td>True</td><td>False</td><td>284017659.681</td><td>1.10670006275</td><td>0.037536239405</td><td>9.7141456604</td><td>58613</td><td>2007.0</td><td>31.0</td><td>0.0</td><td>0</td><td>-0.2858543396</td></tr>\n",
       "<tr><td>True</td><td>False</td><td>284017659.681</td><td>1.5</td><td>0.037536239405</td><td>9.73987197876</td><td>58613</td><td>2007.0</td><td>31.0</td><td>0.0</td><td>1</td><td>-0.26012802124</td></tr>\n",
       "<tr><td>True</td><td>False</td><td>284019533.381</td><td>0.909499764442</td><td>0.0375113319633</td><td>8.96426963806</td><td>58612</td><td>2007.0</td><td>31.0</td><td>0.0</td><td>0</td><td>-1.03573036194</td></tr>\n",
       "<tr><td>True</td><td>False</td><td>284019533.381</td><td>0.473450124264</td><td>0.0375113319633</td><td>9.33366012573</td><td>58612</td><td>2007.0</td><td>31.0</td><td>0.0</td><td>0</td><td>-0.666339874268</td></tr>\n",
       "<tr><td>True</td><td>False</td><td>284019533.381</td><td>0.62984931469</td><td>0.0375113319633</td><td>9.09819030762</td><td>58612</td><td>2007.0</td><td>31.0</td><td>0.0</td><td>0</td><td>-0.901809692383</td></tr>\n",
       "<tr><td>...</td><td>...</td><td>...</td><td>...</td><td>...</td><td>...</td><td>...</td><td>...</td><td>...</td><td>...</td><td>...</td><td>...</td></tr>\n",
       "<tr><td>True</td><td>False</td><td>551993468.284</td><td>1.5</td><td>0.18163611237</td><td>9.57053661346</td><td>51804</td><td>2015.49</td><td>65.0</td><td>0.0</td><td>1</td><td>-0.429463386536</td></tr>\n",
       "<tr><td>True</td><td>False</td><td>551993468.284</td><td>1.5</td><td>0.18163611237</td><td>9.79486274719</td><td>51804</td><td>2015.49</td><td>65.0</td><td>0.0</td><td>1</td><td>-0.205137252808</td></tr>\n",
       "<tr><td>True</td><td>False</td><td>551993468.284</td><td>1.5</td><td>0.18163611237</td><td>9.09005832672</td><td>51804</td><td>2015.49</td><td>65.0</td><td>0.0</td><td>1</td><td>-0.909941673279</td></tr>\n",
       "<tr><td>True</td><td>False</td><td>551993468.284</td><td>1.5</td><td>0.18163611237</td><td>9.37496566772</td><td>51804</td><td>2015.49</td><td>65.0</td><td>0.0</td><td>1</td><td>-0.625034332275</td></tr>\n",
       "<tr><td>False</td><td>False</td><td>552004070.885</td><td>0.283899694681</td><td>0.189272843611</td><td>9.99422645569</td><td>51803</td><td>2015.49</td><td>65.0</td><td>1.0</td><td>0</td><td>-0.00577354431152</td></tr>\n",
       "<tr><td>True</td><td>False</td><td>552004070.885</td><td>1.16959953308</td><td>0.189272843611</td><td>8.61542701721</td><td>51803</td><td>2015.49</td><td>65.0</td><td>0.0</td><td>0</td><td>-1.38457298279</td></tr>\n",
       "<tr><td>True</td><td>False</td><td>552004070.885</td><td>0.512549757957</td><td>0.189272843611</td><td>10.3281440735</td><td>51803</td><td>2015.49</td><td>65.0</td><td>0.0</td><td>0</td><td>0.328144073486</td></tr>\n",
       "<tr><td>True</td><td>False</td><td>552004070.885</td><td>0.604349553585</td><td>0.189272843611</td><td>8.55741786957</td><td>51803</td><td>2015.49</td><td>65.0</td><td>0.0</td><td>0</td><td>-1.44258213043</td></tr>\n",
       "<tr><td>True</td><td>False</td><td>552004070.885</td><td>0.512549757957</td><td>0.189272843611</td><td>9.59014415741</td><td>51803</td><td>2015.49</td><td>65.0</td><td>0.0</td><td>0</td><td>-0.40985584259</td></tr>\n",
       "<tr><td>True</td><td>False</td><td>552004070.885</td><td>1.01829993725</td><td>0.189272843611</td><td>10.0528802872</td><td>51803</td><td>2015.49</td><td>65.0</td><td>0.0</td><td>0</td><td>0.0528802871704</td></tr>\n",
       "</table>"
      ],
      "text/plain": [
       "<Table masked=False length=75385>\n",
       "obc_id known_bad     tstart    ...   fail  color_1p5       mag10      \n",
       " bool     bool      float64    ... float64   int64        float64     \n",
       "------ --------- ------------- ... ------- --------- -----------------\n",
       "  True     False 284017659.681 ...     0.0         0    -1.07733726501\n",
       "  True     False 284017659.681 ...     0.0         0    -1.16990566254\n",
       "  True     False 284017659.681 ...     0.0         0   -0.468706130981\n",
       "  True     False 284017659.681 ...     0.0         0   -0.711228370667\n",
       "  True     False 284017659.681 ...     0.0         0     -1.0771894455\n",
       "  True     False 284017659.681 ...     0.0         0     -0.2858543396\n",
       "  True     False 284017659.681 ...     0.0         1    -0.26012802124\n",
       "  True     False 284019533.381 ...     0.0         0    -1.03573036194\n",
       "  True     False 284019533.381 ...     0.0         0   -0.666339874268\n",
       "  True     False 284019533.381 ...     0.0         0   -0.901809692383\n",
       "   ...       ...           ... ...     ...       ...               ...\n",
       "  True     False 551993468.284 ...     0.0         1   -0.429463386536\n",
       "  True     False 551993468.284 ...     0.0         1   -0.205137252808\n",
       "  True     False 551993468.284 ...     0.0         1   -0.909941673279\n",
       "  True     False 551993468.284 ...     0.0         1   -0.625034332275\n",
       " False     False 552004070.885 ...     1.0         0 -0.00577354431152\n",
       "  True     False 552004070.885 ...     0.0         0    -1.38457298279\n",
       "  True     False 552004070.885 ...     0.0         0    0.328144073486\n",
       "  True     False 552004070.885 ...     0.0         0    -1.44258213043\n",
       "  True     False 552004070.885 ...     0.0         0    -0.40985584259\n",
       "  True     False 552004070.885 ...     0.0         0   0.0528802871704"
      ]
     },
     "execution_count": 63,
     "metadata": {},
     "output_type": "execute_result"
    }
   ],
   "source": [
    "# SET DATA FILTERING for this run\n",
    "# data_all = data_all[data_all['color'] == 1.5]\n",
    "data_all"
   ]
  },
  {
   "cell_type": "code",
   "execution_count": 64,
   "metadata": {
    "collapsed": false
   },
   "outputs": [],
   "source": [
    "def scaled_warm_frac(pars, x, data=None, mag=None, wp=None):\n",
    "    if data is None:\n",
    "        data = data_all\n",
    "        \n",
    "    m10 = data['mag10'] if mag is None else mag - 10.0\n",
    "    if wp is None:\n",
    "        wp = data['warm_pix']\n",
    "        \n",
    "    scl0, scl1, scl2 = pars[0:3]\n",
    "    off0, off1, off2 = pars[3:6]\n",
    "    \n",
    "    scale = scl0 + scl1 * m10 + scl2 * m10**2\n",
    "    offset = off0 + off1 * m10 + off2 * m10**2  # + off_color1p5 * acq_data['color_1p5']\n",
    "    \n",
    "    model_fail = offset + scale * wp\n",
    "    model_fail = stats.norm.cdf(model_fail)  # probit transform\n",
    "    return model_fail"
   ]
  },
  {
   "cell_type": "code",
   "execution_count": 65,
   "metadata": {
    "collapsed": false
   },
   "outputs": [],
   "source": [
    "def fit_sota_model():\n",
    "    from sherpa import ui\n",
    "\n",
    "    data_id = 1\n",
    "    ui.set_method('simplex')\n",
    "    ui.set_stat('cash')\n",
    "    ui.load_user_model(scaled_warm_frac, 'model')\n",
    "    ui.add_user_pars('model', ['scl0', 'scl1', 'scl2', 'off0', 'off1', 'off2'])\n",
    "    ui.set_model(data_id, 'model')\n",
    "    ui.load_arrays(data_id, np.array(data_all['year']), np.array(data_all['fail'], dtype=np.float))\n",
    "\n",
    "    # Initial fit values from SOTA 2013 presentation (modulo typo there)\n",
    "    start_vals = iter(SOTA2015_FIT_ALL)  # Offset\n",
    "    fmod = ui.get_model_component('model')\n",
    "    for name in ('scl', 'off'):\n",
    "        for num in (0, 1, 2):\n",
    "            comp_name = name + str(num)\n",
    "            setattr(fmod, comp_name, start_vals.next())\n",
    "            comp = getattr(fmod, comp_name)\n",
    "            comp.min = -100000\n",
    "            comp.max = 100000\n",
    "            # ui.freeze(comp)\n",
    "    \n",
    "    ui.fit(data_id)\n",
    "    # conf = ui.get_confidence_results()\n",
    "    return ui.get_fit_results()"
   ]
  },
  {
   "cell_type": "code",
   "execution_count": 66,
   "metadata": {
    "collapsed": false
   },
   "outputs": [],
   "source": [
    "def plot_fit_grouped(pars, group_col, group_bin, mask=None, log=False, colors='br', label=None):\n",
    "    if mask is None:\n",
    "        mask = np.ones(len(data_all), dtype=bool)\n",
    "    data = data_all[mask]\n",
    "    data['model'] = scaled_warm_frac(pars, None, data)\n",
    "\n",
    "    group = np.trunc(data[group_col] / group_bin)\n",
    "    data = data.group_by(group)\n",
    "    data_mean = data.groups.aggregate(np.mean)\n",
    "    len_groups = np.diff(data.groups.indices)\n",
    "    fail_sigmas = np.sqrt(data_mean['fail'] * len_groups) / len_groups\n",
    "    \n",
    "    plt.errorbar(data_mean[group_col], data_mean['fail'], yerr=fail_sigmas, fmt='.' + colors[0], label=label)\n",
    "    plt.plot(data_mean[group_col], data_mean['model'], '-' + colors[1])\n",
    "    if log:\n",
    "        ax = plt.gca()\n",
    "        ax.set_yscale('log')"
   ]
  },
  {
   "cell_type": "code",
   "execution_count": 67,
   "metadata": {
    "collapsed": false
   },
   "outputs": [],
   "source": [
    "def mag_filter(mag0, mag1):\n",
    "    ok = (data_all['mag'] > mag0) & (data_all['mag'] < mag1)\n",
    "    return ok"
   ]
  },
  {
   "cell_type": "code",
   "execution_count": 68,
   "metadata": {
    "collapsed": false
   },
   "outputs": [],
   "source": [
    "def wp_filter(wp0, wp1):\n",
    "    ok = (data_all['warm_pix'] > wp0) & (data_all['warm_pix'] < wp1)\n",
    "    return ok"
   ]
  },
  {
   "cell_type": "code",
   "execution_count": 69,
   "metadata": {
    "collapsed": false,
    "scrolled": true
   },
   "outputs": [
    {
     "name": "stdout",
     "output_type": "stream",
     "text": [
      "Hang tight, this will take a few minutes\n",
      "Dataset               = 1\n",
      "Method                = neldermead\n",
      "Statistic             = cash\n",
      "Initial fit statistic = 23657.2\n",
      "Final fit statistic   = 23647.6 at function evaluation 904\n",
      "Data points           = 75385\n",
      "Degrees of freedom    = 75379\n",
      "Change in statistic   = 9.57962\n",
      "   model.scl0     9.01224     \n",
      "   model.scl1     6.58827     \n",
      "   model.scl2     -0.777273   \n",
      "   model.off0     -2.1477     \n",
      "   model.off1     0.671323    \n",
      "   model.off2     0.332096    \n"
     ]
    },
    {
     "name": "stderr",
     "output_type": "stream",
     "text": [
      "INFO:sherpa.ui.utils:Dataset               = 1\n",
      "Method                = neldermead\n",
      "Statistic             = cash\n",
      "Initial fit statistic = 23657.2\n",
      "Final fit statistic   = 23647.6 at function evaluation 904\n",
      "Data points           = 75385\n",
      "Degrees of freedom    = 75379\n",
      "Change in statistic   = 9.57962\n",
      "   model.scl0     9.01224     \n",
      "   model.scl1     6.58827     \n",
      "   model.scl2     -0.777273   \n",
      "   model.off0     -2.1477     \n",
      "   model.off1     0.671323    \n",
      "   model.off2     0.332096    \n"
     ]
    }
   ],
   "source": [
    "print('Hang tight, this will take a few minutes')\n",
    "fit = fit_sota_model()"
   ]
  },
  {
   "cell_type": "code",
   "execution_count": 70,
   "metadata": {
    "collapsed": false
   },
   "outputs": [
    {
     "name": "stdout",
     "output_type": "stream",
     "text": [
      "datasets       = (1,)\n",
      "itermethodname = none\n",
      "methodname     = neldermead\n",
      "statname       = cash\n",
      "succeeded      = True\n",
      "parnames       = ('model.scl0', 'model.scl1', 'model.scl2', 'model.off0', 'model.off1', 'model.off2')\n",
      "parvals        = (9.0122372262846735, 6.5882697680183346, -0.77727342693609758, -2.1477049943999713, 0.67132336969927486, 0.33209623740442562)\n",
      "statval        = 23647.61329\n",
      "istatval       = 23657.1929139\n",
      "dstatval       = 9.57962396379\n",
      "numpoints      = 75385\n",
      "dof            = 75379\n",
      "qval           = None\n",
      "rstat          = None\n",
      "message        = Optimization terminated successfully\n",
      "nfev           = 904\n"
     ]
    }
   ],
   "source": [
    "print(fit)"
   ]
  },
  {
   "cell_type": "code",
   "execution_count": 71,
   "metadata": {
    "collapsed": false
   },
   "outputs": [
    {
     "data": {
      "text/plain": [
       "[9.0122372262846735,\n",
       " 6.5882697680183346,\n",
       " -0.77727342693609758,\n",
       " -2.1477049943999713,\n",
       " 0.67132336969927486,\n",
       " 0.33209623740442562]"
      ]
     },
     "execution_count": 71,
     "metadata": {},
     "output_type": "execute_result"
    }
   ],
   "source": [
    "parvals = [par.val for par in model.pars]\n",
    "parvals"
   ]
  },
  {
   "cell_type": "code",
   "execution_count": 72,
   "metadata": {
    "collapsed": false
   },
   "outputs": [
    {
     "data": {
      "image/png": "[encoded data removed]",
      "text/plain": [
       "<matplotlib.figure.Figure at 0x7f3a5fcef890>"
      ]
     },
     "metadata": {},
     "output_type": "display_data"
    }
   ],
   "source": [
    "plot_fit_grouped(parvals, 'mag', 0.25, wp_filter(0.15, 0.20), log=True, colors='cm', label='0.15 < WP < 0.2')\n",
    "plot_fit_grouped(parvals, 'mag', 0.25, wp_filter(0.10, 0.15), log=True, colors='br', label='0.1 < WP < 0.15')\n",
    "plot_fit_grouped(parvals, 'mag', 0.25, wp_filter(0.05, 0.10), log=True, colors='cm', label='0.05 < WP < 0.10')\n",
    "plot_fit_grouped(parvals, 'mag', 0.25, wp_filter(0.0, 0.05), log=True, colors='br', label='0 < WP < 0.05')\n",
    "plt.legend(loc='best');\n",
    "plt.ylim(0.001, 5);\n",
    "plt.grid();"
   ]
  },
  {
   "cell_type": "code",
   "execution_count": 73,
   "metadata": {
    "collapsed": false,
    "scrolled": false
   },
   "outputs": [
    {
     "data": {
      "image/png": "[encoded data removed]",
      "text/plain": [
       "<matplotlib.figure.Figure at 0x7f3a601423d0>"
      ]
     },
     "metadata": {},
     "output_type": "display_data"
    }
   ],
   "source": [
    "plot_fit_grouped(parvals, 'warm_pix', 0.02, mag_filter(10, 10.6), log=True, colors='cm', label='10 < mag < 10.6')\n",
    "plot_fit_grouped(parvals, 'warm_pix', 0.02, mag_filter(9, 10), log=True, colors='br', label='9 < mag < 10')\n",
    "plt.legend(loc='best');"
   ]
  },
  {
   "cell_type": "code",
   "execution_count": 74,
   "metadata": {
    "collapsed": false,
    "scrolled": true
   },
   "outputs": [
    {
     "data": {
      "image/png": "[encoded data removed]",
      "text/plain": [
       "<matplotlib.figure.Figure at 0x7f3a602cfb10>"
      ]
     },
     "metadata": {},
     "output_type": "display_data"
    }
   ],
   "source": [
    "plot_fit_grouped(parvals, 'year', 0.25, mag_filter(10, 10.6), colors='cm', label='10 < mag < 10.6')\n",
    "plot_fit_grouped(parvals, 'year', 0.25, mag_filter(9.5, 10), colors='br', label='9.5 < mag < 10')\n",
    "plot_fit_grouped(parvals, 'year', 0.25, mag_filter(9.0, 9.5),  colors='gk', label='9.0 < mag < 9.5')\n",
    "plt.legend(loc='best');"
   ]
  },
  {
   "cell_type": "code",
   "execution_count": 75,
   "metadata": {
    "collapsed": false,
    "scrolled": true
   },
   "outputs": [
    {
     "data": {
      "image/png": "[encoded data removed]",
      "text/plain": [
       "<matplotlib.figure.Figure at 0x7f3a600338d0>"
      ]
     },
     "metadata": {},
     "output_type": "display_data"
    }
   ],
   "source": [
    "plot_fit_grouped(parvals, 'year', 0.25, mag_filter(10, 10.6), colors='cm', label='10 < mag < 10.6', log=True)\n",
    "plot_fit_grouped(parvals, 'year', 0.25, mag_filter(9.5, 10), colors='br', label='9.5 < mag < 10', log=True)\n",
    "plot_fit_grouped(parvals, 'year', 0.25, mag_filter(9.0, 9.5),  colors='gk', label='9.0 < mag < 9.5', log=True)\n",
    "plt.legend(loc='best');"
   ]
  },
  {
   "cell_type": "code",
   "execution_count": 76,
   "metadata": {
    "collapsed": false,
    "scrolled": true
   },
   "outputs": [
    {
     "data": {
      "image/png": "[encoded data removed]",
      "text/plain": [
       "<matplotlib.figure.Figure at 0x7f3a600e0710>"
      ]
     },
     "metadata": {},
     "output_type": "display_data"
    }
   ],
   "source": [
    "ok = data_all['color'] == 1.5\n",
    "if np.any(ok):\n",
    "    plot_fit_grouped(parvals, 'year', 0.5, mag_filter(10, 10.6) & ok, colors='cm', label='10 < mag < 10.6')\n",
    "    plot_fit_grouped(parvals, 'year', 0.5, mag_filter(9.5, 10) & ok, colors='br', label='9.5 < mag < 10')\n",
    "    plot_fit_grouped(parvals, 'year', 0.5, mag_filter(9.0, 9.5) & ok,  colors='gk', label='9.0 < mag < 9.5')\n",
    "    plt.legend(loc='best');"
   ]
  },
  {
   "cell_type": "code",
   "execution_count": 77,
   "metadata": {
    "collapsed": false
   },
   "outputs": [
    {
     "data": {
      "text/plain": [
       "(<Parameter 'scl0' of model 'model'>,\n",
       " <Parameter 'scl1' of model 'model'>,\n",
       " <Parameter 'scl2' of model 'model'>,\n",
       " <Parameter 'off0' of model 'model'>,\n",
       " <Parameter 'off1' of model 'model'>,\n",
       " <Parameter 'off2' of model 'model'>)"
      ]
     },
     "execution_count": 77,
     "metadata": {},
     "output_type": "execute_result"
    }
   ],
   "source": [
    "model.pars"
   ]
  },
  {
   "cell_type": "code",
   "execution_count": 78,
   "metadata": {
    "collapsed": false
   },
   "outputs": [
    {
     "data": {
      "text/plain": [
       "[9.0122372262846735,\n",
       " 6.5882697680183346,\n",
       " -0.77727342693609758,\n",
       " -2.1477049943999713,\n",
       " 0.67132336969927486,\n",
       " 0.33209623740442562]"
      ]
     },
     "execution_count": 78,
     "metadata": {},
     "output_type": "execute_result"
    }
   ],
   "source": [
    "parvals"
   ]
  },
  {
   "cell_type": "code",
   "execution_count": null,
   "metadata": {
    "collapsed": true
   },
   "outputs": [],
   "source": []
  },
  {
   "cell_type": "code",
   "execution_count": null,
   "metadata": {
    "collapsed": true
   },
   "outputs": [],
   "source": []
  }
 ],
 "metadata": {
  "kernelspec": {
   "display_name": "Python 2",
   "language": "python",
   "name": "python2"
  },
  "language_info": {
   "codemirror_mode": {
    "name": "ipython",
    "version": 2
   },
   "file_extension": ".py",
   "mimetype": "text/x-python",
   "name": "python",
   "nbconvert_exporter": "python",
   "pygments_lexer": "ipython2",
   "version": "2.7.9"
  }
 },
 "nbformat": 4,
 "nbformat_minor": 0
}
