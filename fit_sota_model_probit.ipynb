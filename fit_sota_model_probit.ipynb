{
 "cells": [
  {
   "cell_type": "code",
   "execution_count": 81,
   "metadata": {
    "collapsed": false
   },
   "outputs": [],
   "source": [
    "from __future__ import division\n",
    "\n",
    "import numpy as np\n",
    "import matplotlib.pyplot as plt\n",
    "from astropy.table import Table\n",
    "from astropy.time import Time\n",
    "import tables\n",
    "from scipy import stats\n",
    "\n",
    "%matplotlib inline"
   ]
  },
  {
   "cell_type": "code",
   "execution_count": 82,
   "metadata": {
    "collapsed": false
   },
   "outputs": [],
   "source": [
    "SOTA2015_FIT_ALL = [9.0122372262846735,\n",
    " 6.5882697680183346,\n",
    " -0.77727342693609758,\n",
    " -2.1477049943999713,\n",
    " 0.67132336969927486,\n",
    " 0.33209623740442562]"
   ]
  },
  {
   "cell_type": "code",
   "execution_count": 83,
   "metadata": {
    "collapsed": true
   },
   "outputs": [],
   "source": [
    "SOTA2015_FIT_NO_1P5 = [9.6887121629584954,\n",
    " 9.1613039805725531,\n",
    " -0.41919346946809299,\n",
    " -2.3829996969445664,\n",
    " 0.54998935209070199,\n",
    " 0.47839261003413558,\n",
    " 0.0060869131558326916]"
   ]
  },
  {
   "cell_type": "code",
   "execution_count": 84,
   "metadata": {
    "collapsed": true
   },
   "outputs": [],
   "source": [
    "SOTA2015_FIT_ONLY_1P5 = [8.5417092977479818,\n",
    " 0.4448269654965103,\n",
    " -3.5137851315167579,\n",
    " -1.350542439869622,\n",
    " 1.527806122455764,\n",
    " 0.30973568451354011,\n",
    " 0.005414847154007865]"
   ]
  },
  {
   "cell_type": "code",
   "execution_count": 85,
   "metadata": {
    "collapsed": false
   },
   "outputs": [],
   "source": [
    "with tables.openFile('/proj/sot/ska/data/acq_stats/acq_stats.h5', 'r') as h5:\n",
    "    cols = h5.root.data.cols\n",
    "    names = {'tstart': 'guide_tstart',\n",
    "             'obsid': 'obsid',\n",
    "             'obc_id': 'acqid',\n",
    "             'warm_pix': 'n100_warm_frac',\n",
    "             'mag': 'mag_aca',\n",
    "             'known_bad': 'known_bad',\n",
    "             'color': 'color1'}\n",
    "    acqs = Table([getattr(cols, h5_name)[:] for h5_name in names.values()],\n",
    "                 names=list(names.keys()))\n",
    "\n",
    "    year_q0 = 1999.0 + 31. / 365.25  # Jan 31 approximately\n",
    "acqs['year'] = Time(acqs['tstart'], format='cxcsec').decimalyear.astype('f4')\n",
    "acqs['quarter'] = (np.trunc((acqs['year'] - year_q0) * 4)).astype('f4')\n",
    "acqs['fail'] = 1.0 - acqs['obc_id'].astype(np.int)\n",
    "acqs['color_1p5'] = np.where(acqs['color'] == 1.5, 1, 0)"
   ]
  },
  {
   "cell_type": "code",
   "execution_count": 86,
   "metadata": {
    "collapsed": false
   },
   "outputs": [
    {
     "name": "stdout",
     "output_type": "stream",
     "text": [
      "Filtering known bad obsids, start len = 101457\n",
      "Filtering known bad obsids, end len = 101297\n"
     ]
    }
   ],
   "source": [
    "data_all = acqs.group_by('quarter')\n",
    "data_all['mag10'] = data_all['mag'] - 10.0\n",
    "data_all.sort('year')\n",
    "ok = (data_all['year'] > 2007) & (data_all['mag'] > 6.0) & (data_all['mag'] < 11.0)\n",
    "data_all = data_all[ok]\n",
    "data_all = data_all.group_by('quarter')\n",
    "data_mean = data_all.groups.aggregate(np.mean)\n",
    "\n",
    "ok = np.ones(len(data_all), dtype=bool)\n",
    "print('Filtering known bad obsids, start len = {}'.format(len(data_all)))\n",
    "bad_obsids = [\n",
    "    # Venus\n",
    "    2411,2414,6395,7306,7307,7308,7309,7311,7312,7313,7314,7315,7317,7318,7406,583,\n",
    "    7310,9741,9742,9743,9744,9745,9746,9747,9749,9752,9753,9748,7316,15292,16499,\n",
    "    16500,16501,16503,16504,16505,16506,16502,\n",
    "    ]\n",
    "for badid in bad_obsids:\n",
    "    ok = ok & (data_all['obsid'] != badid)\n",
    "data_all = data_all[ok]\n",
    "print('Filtering known bad obsids, end len = {}'.format(len(data_all)))"
   ]
  },
  {
   "cell_type": "code",
   "execution_count": 87,
   "metadata": {
    "collapsed": false
   },
   "outputs": [
    {
     "data": {
      "text/html": [
       "&lt;Table masked=False length=18302&gt;\n",
       "<table id=\"table140521667523152\">\n",
       "<thead><tr><th>obc_id</th><th>known_bad</th><th>tstart</th><th>color</th><th>warm_pix</th><th>mag</th><th>obsid</th><th>year</th><th>quarter</th><th>fail</th><th>color_1p5</th><th>mag10</th></tr></thead>\n",
       "<thead><tr><th>bool</th><th>bool</th><th>float64</th><th>float64</th><th>float64</th><th>float64</th><th>int64</th><th>float32</th><th>float32</th><th>float64</th><th>int64</th><th>float64</th></tr></thead>\n",
       "<tr><td>True</td><td>False</td><td>284017659.681</td><td>1.5</td><td>0.037536239405</td><td>9.73987197876</td><td>58613</td><td>2007.0</td><td>31.0</td><td>0.0</td><td>1</td><td>-0.26012802124</td></tr>\n",
       "<tr><td>True</td><td>False</td><td>284027573.482</td><td>1.5</td><td>0.0374046406244</td><td>9.73987197876</td><td>58611</td><td>2007.0</td><td>31.0</td><td>0.0</td><td>1</td><td>-0.26012802124</td></tr>\n",
       "<tr><td>True</td><td>False</td><td>284029939.182</td><td>1.5</td><td>0.034822138034</td><td>9.20283508301</td><td>58610</td><td>2007.0</td><td>31.0</td><td>0.0</td><td>1</td><td>-0.797164916992</td></tr>\n",
       "<tr><td>True</td><td>False</td><td>284070225.784</td><td>1.5</td><td>0.0368437112132</td><td>8.78202342987</td><td>7765</td><td>2007.0</td><td>31.0</td><td>0.0</td><td>1</td><td>-1.21797657013</td></tr>\n",
       "<tr><td>True</td><td>False</td><td>284075494.284</td><td>1.5</td><td>0.0367750131996</td><td>9.88560771942</td><td>7362</td><td>2007.0</td><td>31.0</td><td>0.0</td><td>1</td><td>-0.114392280579</td></tr>\n",
       "<tr><td>True</td><td>False</td><td>284079413.884</td><td>1.5</td><td>0.0367241058991</td><td>8.00886535645</td><td>58609</td><td>2007.0</td><td>31.0</td><td>0.0</td><td>1</td><td>-1.99113464355</td></tr>\n",
       "<tr><td>True</td><td>False</td><td>284079413.884</td><td>1.5</td><td>0.0367241058991</td><td>9.05536460876</td><td>58609</td><td>2007.0</td><td>31.0</td><td>0.0</td><td>1</td><td>-0.944635391235</td></tr>\n",
       "<tr><td>True</td><td>False</td><td>284079413.884</td><td>1.5</td><td>0.0367241058991</td><td>6.77691268921</td><td>58609</td><td>2007.0</td><td>31.0</td><td>0.0</td><td>1</td><td>-3.22308731079</td></tr>\n",
       "<tr><td>True</td><td>False</td><td>284079413.884</td><td>1.5</td><td>0.0367241058991</td><td>8.79903793335</td><td>58609</td><td>2007.0</td><td>31.0</td><td>0.0</td><td>1</td><td>-1.20096206665</td></tr>\n",
       "<tr><td>True</td><td>False</td><td>284079413.884</td><td>1.5</td><td>0.0367241058991</td><td>9.8631772995</td><td>58609</td><td>2007.0</td><td>31.0</td><td>0.0</td><td>1</td><td>-0.1368227005</td></tr>\n",
       "<tr><td>...</td><td>...</td><td>...</td><td>...</td><td>...</td><td>...</td><td>...</td><td>...</td><td>...</td><td>...</td><td>...</td><td>...</td></tr>\n",
       "<tr><td>True</td><td>False</td><td>552236081.698</td><td>1.5</td><td>0.159734887027</td><td>9.57520103455</td><td>51789</td><td>2015.5</td><td>65.0</td><td>0.0</td><td>1</td><td>-0.424798965454</td></tr>\n",
       "<tr><td>True</td><td>False</td><td>552236081.698</td><td>1.5</td><td>0.159734887027</td><td>9.77792739868</td><td>51789</td><td>2015.5</td><td>65.0</td><td>0.0</td><td>1</td><td>-0.222072601318</td></tr>\n",
       "<tr><td>False</td><td>False</td><td>552238660.598</td><td>1.5</td><td>0.159735965146</td><td>9.57520103455</td><td>51787</td><td>2015.5</td><td>65.0</td><td>1.0</td><td>1</td><td>-0.424798965454</td></tr>\n",
       "<tr><td>True</td><td>False</td><td>552238660.598</td><td>1.5</td><td>0.159735965146</td><td>9.77792739868</td><td>51787</td><td>2015.5</td><td>65.0</td><td>0.0</td><td>1</td><td>-0.222072601318</td></tr>\n",
       "<tr><td>False</td><td>False</td><td>552240103.798</td><td>1.5</td><td>0.159736568484</td><td>9.57520103455</td><td>51786</td><td>2015.5</td><td>65.0</td><td>1.0</td><td>1</td><td>-0.424798965454</td></tr>\n",
       "<tr><td>True</td><td>False</td><td>552262539.0</td><td>1.5</td><td>0.159745947806</td><td>9.16835689545</td><td>51784</td><td>2015.5</td><td>65.0</td><td>0.0</td><td>1</td><td>-0.831643104553</td></tr>\n",
       "<tr><td>True</td><td>False</td><td>552262539.0</td><td>1.5</td><td>0.159745947806</td><td>9.79662704468</td><td>51784</td><td>2015.5</td><td>65.0</td><td>0.0</td><td>1</td><td>-0.203372955322</td></tr>\n",
       "<tr><td>True</td><td>False</td><td>552262539.0</td><td>1.5</td><td>0.159745947806</td><td>8.54165267944</td><td>51784</td><td>2015.5</td><td>65.0</td><td>0.0</td><td>1</td><td>-1.45834732056</td></tr>\n",
       "<tr><td>True</td><td>False</td><td>552309348.702</td><td>1.5</td><td>0.152736749501</td><td>7.85525083542</td><td>17667</td><td>2015.5</td><td>65.0</td><td>0.0</td><td>1</td><td>-2.14474916458</td></tr>\n",
       "<tr><td>True</td><td>False</td><td>552309348.702</td><td>1.5</td><td>0.152736749501</td><td>8.97832202911</td><td>17667</td><td>2015.5</td><td>65.0</td><td>0.0</td><td>1</td><td>-1.02167797089</td></tr>\n",
       "</table>"
      ],
      "text/plain": [
       "<Table masked=False length=18302>\n",
       "obc_id known_bad     tstart     color  ...   fail  color_1p5      mag10     \n",
       " bool     bool      float64    float64 ... float64   int64       float64    \n",
       "------ --------- ------------- ------- ... ------- --------- ---------------\n",
       "  True     False 284017659.681     1.5 ...     0.0         1  -0.26012802124\n",
       "  True     False 284027573.482     1.5 ...     0.0         1  -0.26012802124\n",
       "  True     False 284029939.182     1.5 ...     0.0         1 -0.797164916992\n",
       "  True     False 284070225.784     1.5 ...     0.0         1  -1.21797657013\n",
       "  True     False 284075494.284     1.5 ...     0.0         1 -0.114392280579\n",
       "  True     False 284079413.884     1.5 ...     0.0         1  -1.99113464355\n",
       "  True     False 284079413.884     1.5 ...     0.0         1 -0.944635391235\n",
       "  True     False 284079413.884     1.5 ...     0.0         1  -3.22308731079\n",
       "  True     False 284079413.884     1.5 ...     0.0         1  -1.20096206665\n",
       "  True     False 284079413.884     1.5 ...     0.0         1   -0.1368227005\n",
       "   ...       ...           ...     ... ...     ...       ...             ...\n",
       "  True     False 552236081.698     1.5 ...     0.0         1 -0.424798965454\n",
       "  True     False 552236081.698     1.5 ...     0.0         1 -0.222072601318\n",
       " False     False 552238660.598     1.5 ...     1.0         1 -0.424798965454\n",
       "  True     False 552238660.598     1.5 ...     0.0         1 -0.222072601318\n",
       " False     False 552240103.798     1.5 ...     1.0         1 -0.424798965454\n",
       "  True     False   552262539.0     1.5 ...     0.0         1 -0.831643104553\n",
       "  True     False   552262539.0     1.5 ...     0.0         1 -0.203372955322\n",
       "  True     False   552262539.0     1.5 ...     0.0         1  -1.45834732056\n",
       "  True     False 552309348.702     1.5 ...     0.0         1  -2.14474916458\n",
       "  True     False 552309348.702     1.5 ...     0.0         1  -1.02167797089"
      ]
     },
     "execution_count": 87,
     "metadata": {},
     "output_type": "execute_result"
    }
   ],
   "source": [
    "# SET DATA FILTERING for this run\n",
    "data_all = data_all[data_all['color'] == 1.5]\n",
    "data_all"
   ]
  },
  {
   "cell_type": "code",
   "execution_count": 110,
   "metadata": {
    "collapsed": false
   },
   "outputs": [],
   "source": [
    "def p_acq_fail(pars, x, data=None, mag=None, wp=None):\n",
    "    if data is None:\n",
    "        data = data_all\n",
    "        \n",
    "    m10 = data['mag10'] if mag is None else mag - 10.0\n",
    "    if wp is None:\n",
    "        wp = data['warm_pix']\n",
    "        \n",
    "    scl0, scl1, scl2 = pars[0:3]\n",
    "    off0, off1, off2 = pars[3:6]\n",
    "    p_bright_fail = pars[6]\n",
    "    \n",
    "    scale = scl0 + scl1 * m10 + scl2 * m10**2\n",
    "    offset = off0 + off1 * m10 + off2 * m10**2  # + off_color1p5 * acq_data['color_1p5']\n",
    "    \n",
    "    p_fail = offset + scale * wp\n",
    "    p_fail = stats.norm.cdf(p_fail)  # probit transform\n",
    "    p_fail[m10 < -1.5] = p_bright_fail  # For stars brighter than 8.5 mag use a constant\n",
    "    \n",
    "    return p_fail"
   ]
  },
  {
   "cell_type": "code",
   "execution_count": 89,
   "metadata": {
    "collapsed": false
   },
   "outputs": [],
   "source": [
    "def fit_sota_model():\n",
    "    from sherpa import ui\n",
    "\n",
    "    data_id = 1\n",
    "    ui.set_method('simplex')\n",
    "    ui.set_stat('cash')\n",
    "    ui.load_user_model(p_acq_fail, 'model')\n",
    "    ui.add_user_pars('model', ['scl0', 'scl1', 'scl2', 'off0', 'off1', 'off2', 'p_bright_fail'])\n",
    "    ui.set_model(data_id, 'model')\n",
    "    ui.load_arrays(data_id, np.array(data_all['year']), np.array(data_all['fail'], dtype=np.float))\n",
    "\n",
    "    # Initial fit values from SOTA 2013 presentation (modulo typo there)\n",
    "    start_vals = iter(SOTA2015_FIT_ALL)  # Offset\n",
    "    fmod = ui.get_model_component('model')\n",
    "    for name in ('scl', 'off'):\n",
    "        for num in (0, 1, 2):\n",
    "            comp_name = name + str(num)\n",
    "            setattr(fmod, comp_name, start_vals.next())\n",
    "            comp = getattr(fmod, comp_name)\n",
    "            comp.min = -100000\n",
    "            comp.max = 100000\n",
    "            # ui.freeze(comp)\n",
    "    \n",
    "    fmod.p_bright_fail = 0.025\n",
    "    fmod.p_bright_fail.min = 0.0\n",
    "    fmod.p_bright_fail.max = 1.0\n",
    "    # ui.freeze(fmod.p_bright_fail)\n",
    "    \n",
    "    ui.fit(data_id)\n",
    "    # conf = ui.get_confidence_results()\n",
    "    return ui.get_fit_results()"
   ]
  },
  {
   "cell_type": "code",
   "execution_count": 90,
   "metadata": {
    "collapsed": false
   },
   "outputs": [],
   "source": [
    "def plot_fit_grouped(pars, group_col, group_bin, mask=None, log=False, colors='br', label=None):\n",
    "    if mask is None:\n",
    "        mask = np.ones(len(data_all), dtype=bool)\n",
    "    data = data_all[mask]\n",
    "    data['model'] = p_acq_fail(pars, None, data)\n",
    "\n",
    "    group = np.trunc(data[group_col] / group_bin)\n",
    "    data = data.group_by(group)\n",
    "    data_mean = data.groups.aggregate(np.mean)\n",
    "    len_groups = np.diff(data.groups.indices)\n",
    "    fail_sigmas = np.sqrt(data_mean['fail'] * len_groups) / len_groups\n",
    "    \n",
    "    plt.errorbar(data_mean[group_col], data_mean['fail'], yerr=fail_sigmas, fmt='.' + colors[0], label=label)\n",
    "    plt.plot(data_mean[group_col], data_mean['model'], '-' + colors[1])\n",
    "    if log:\n",
    "        ax = plt.gca()\n",
    "        ax.set_yscale('log')"
   ]
  },
  {
   "cell_type": "code",
   "execution_count": 91,
   "metadata": {
    "collapsed": false
   },
   "outputs": [],
   "source": [
    "def mag_filter(mag0, mag1):\n",
    "    ok = (data_all['mag'] > mag0) & (data_all['mag'] < mag1)\n",
    "    return ok"
   ]
  },
  {
   "cell_type": "code",
   "execution_count": 92,
   "metadata": {
    "collapsed": false
   },
   "outputs": [],
   "source": [
    "def wp_filter(wp0, wp1):\n",
    "    ok = (data_all['warm_pix'] > wp0) & (data_all['warm_pix'] < wp1)\n",
    "    return ok"
   ]
  },
  {
   "cell_type": "code",
   "execution_count": 93,
   "metadata": {
    "collapsed": false,
    "scrolled": true
   },
   "outputs": [
    {
     "name": "stdout",
     "output_type": "stream",
     "text": [
      "Hang tight, this will take a few minutes\n",
      "Dataset               = 1\n",
      "Method                = neldermead\n",
      "Statistic             = cash\n",
      "Initial fit statistic = 7219.21\n",
      "Final fit statistic   = 6233.69 at function evaluation 1662\n",
      "Data points           = 18302\n",
      "Degrees of freedom    = 18295\n",
      "Change in statistic   = 985.514\n",
      "   model.scl0     8.48398     \n",
      "   model.scl1     0.246771    \n",
      "   model.scl2     -3.67489    \n",
      "   model.off0     -1.34677    \n",
      "   model.off1     1.54179     \n",
      "   model.off2     0.321429    \n",
      "   model.p_bright_fail   0.00540918  \n"
     ]
    },
    {
     "name": "stderr",
     "output_type": "stream",
     "text": [
      "INFO:sherpa.ui.utils:Dataset               = 1\n",
      "Method                = neldermead\n",
      "Statistic             = cash\n",
      "Initial fit statistic = 7219.21\n",
      "Final fit statistic   = 6233.69 at function evaluation 1662\n",
      "Data points           = 18302\n",
      "Degrees of freedom    = 18295\n",
      "Change in statistic   = 985.514\n",
      "   model.scl0     8.48398     \n",
      "   model.scl1     0.246771    \n",
      "   model.scl2     -3.67489    \n",
      "   model.off0     -1.34677    \n",
      "   model.off1     1.54179     \n",
      "   model.off2     0.321429    \n",
      "   model.p_bright_fail   0.00540918  \n"
     ]
    }
   ],
   "source": [
    "print('Hang tight, this will take a few minutes')\n",
    "fit = fit_sota_model()"
   ]
  },
  {
   "cell_type": "code",
   "execution_count": 94,
   "metadata": {
    "collapsed": false
   },
   "outputs": [
    {
     "name": "stdout",
     "output_type": "stream",
     "text": [
      "datasets       = (1,)\n",
      "itermethodname = none\n",
      "methodname     = neldermead\n",
      "statname       = cash\n",
      "succeeded      = True\n",
      "parnames       = ('model.scl0', 'model.scl1', 'model.scl2', 'model.off0', 'model.off1', 'model.off2', 'model.p_bright_fail')\n",
      "parvals        = (8.483982503179849, 0.2467707167847763, -3.6748877878223989, -1.3467728597990272, 1.5417890385789896, 0.32142916189875176, 0.005409178140324441)\n",
      "statval        = 6233.69414021\n",
      "istatval       = 7219.20816691\n",
      "dstatval       = 985.514026696\n",
      "numpoints      = 18302\n",
      "dof            = 18295\n",
      "qval           = None\n",
      "rstat          = None\n",
      "message        = Optimization terminated successfully\n",
      "nfev           = 1662\n"
     ]
    }
   ],
   "source": [
    "print(fit)"
   ]
  },
  {
   "cell_type": "code",
   "execution_count": 95,
   "metadata": {
    "collapsed": false
   },
   "outputs": [
    {
     "data": {
      "text/plain": [
       "[8.483982503179849,\n",
       " 0.2467707167847763,\n",
       " -3.6748877878223989,\n",
       " -1.3467728597990272,\n",
       " 1.5417890385789896,\n",
       " 0.32142916189875176,\n",
       " 0.005409178140324441]"
      ]
     },
     "execution_count": 95,
     "metadata": {},
     "output_type": "execute_result"
    }
   ],
   "source": [
    "parvals = [par.val for par in model.pars]\n",
    "parvals"
   ]
  },
  {
   "cell_type": "code",
   "execution_count": 96,
   "metadata": {
    "collapsed": false
   },
   "outputs": [
    {
     "data": {
      "image/png": "[encoded data removed]",
      "text/plain": [
       "<matplotlib.figure.Figure at 0x7fcdc01376d0>"
      ]
     },
     "metadata": {},
     "output_type": "display_data"
    }
   ],
   "source": [
    "plot_fit_grouped(parvals, 'mag', 0.25, wp_filter(0.10, 0.20), log=True, colors='cm', label='0.10 < WP < 0.2')\n",
    "plot_fit_grouped(parvals, 'mag', 0.25, wp_filter(0.0, 0.10), log=True, colors='br', label='0 < WP < 0.10')\n",
    "plt.legend(loc='best');\n",
    "plt.ylim(0.001, 5);\n",
    "plt.grid();"
   ]
  },
  {
   "cell_type": "code",
   "execution_count": 97,
   "metadata": {
    "collapsed": false,
    "scrolled": false
   },
   "outputs": [
    {
     "data": {
      "image/png": "[encoded data removed]",
      "text/plain": [
       "<matplotlib.figure.Figure at 0x7fcdc000b1d0>"
      ]
     },
     "metadata": {},
     "output_type": "display_data"
    }
   ],
   "source": [
    "plot_fit_grouped(parvals, 'warm_pix', 0.02, mag_filter(10, 10.6), log=True, colors='cm', label='10 < mag < 10.6')\n",
    "plot_fit_grouped(parvals, 'warm_pix', 0.02, mag_filter(9, 10), log=True, colors='br', label='9 < mag < 10')\n",
    "plt.legend(loc='best');"
   ]
  },
  {
   "cell_type": "code",
   "execution_count": 98,
   "metadata": {
    "collapsed": false,
    "scrolled": true
   },
   "outputs": [
    {
     "data": {
      "image/png": "[encoded data removed]",
      "text/plain": [
       "<matplotlib.figure.Figure at 0x7fcdbfa94f50>"
      ]
     },
     "metadata": {},
     "output_type": "display_data"
    }
   ],
   "source": [
    "plot_fit_grouped(parvals, 'year', 0.25, mag_filter(10, 10.6), colors='cm', label='10 < mag < 10.6')\n",
    "plot_fit_grouped(parvals, 'year', 0.25, mag_filter(9.5, 10), colors='br', label='9.5 < mag < 10')\n",
    "plot_fit_grouped(parvals, 'year', 0.25, mag_filter(9.0, 9.5),  colors='gk', label='9.0 < mag < 9.5')\n",
    "plt.legend(loc='best');"
   ]
  },
  {
   "cell_type": "code",
   "execution_count": 99,
   "metadata": {
    "collapsed": false,
    "scrolled": true
   },
   "outputs": [
    {
     "data": {
      "image/png": "[encoded data removed]",
      "text/plain": [
       "<matplotlib.figure.Figure at 0x7fcdbff70cd0>"
      ]
     },
     "metadata": {},
     "output_type": "display_data"
    }
   ],
   "source": [
    "plot_fit_grouped(parvals, 'year', 0.25, mag_filter(10, 10.6), colors='cm', label='10 < mag < 10.6', log=True)\n",
    "plot_fit_grouped(parvals, 'year', 0.25, mag_filter(9.5, 10), colors='br', label='9.5 < mag < 10', log=True)\n",
    "plot_fit_grouped(parvals, 'year', 0.25, mag_filter(9.0, 9.5),  colors='gk', label='9.0 < mag < 9.5', log=True)\n",
    "plt.legend(loc='best');"
   ]
  },
  {
   "cell_type": "code",
   "execution_count": 100,
   "metadata": {
    "collapsed": false,
    "scrolled": true
   },
   "outputs": [
    {
     "data": {
      "image/png": "[encoded data removed]",
      "text/plain": [
       "<matplotlib.figure.Figure at 0x7fcdbfa108d0>"
      ]
     },
     "metadata": {},
     "output_type": "display_data"
    }
   ],
   "source": [
    "ok = data_all['color'] == 1.5\n",
    "if np.any(ok):\n",
    "    plot_fit_grouped(parvals, 'year', 0.5, mag_filter(10, 10.6) & ok, colors='cm', label='10 < mag < 10.6')\n",
    "    plot_fit_grouped(parvals, 'year', 0.5, mag_filter(9.5, 10) & ok, colors='br', label='9.5 < mag < 10')\n",
    "    plot_fit_grouped(parvals, 'year', 0.5, mag_filter(9.0, 9.5) & ok,  colors='gk', label='9.0 < mag < 9.5')\n",
    "    plt.legend(loc='best');"
   ]
  },
  {
   "cell_type": "code",
   "execution_count": 101,
   "metadata": {
    "collapsed": false
   },
   "outputs": [
    {
     "data": {
      "text/plain": [
       "(<Parameter 'scl0' of model 'model'>,\n",
       " <Parameter 'scl1' of model 'model'>,\n",
       " <Parameter 'scl2' of model 'model'>,\n",
       " <Parameter 'off0' of model 'model'>,\n",
       " <Parameter 'off1' of model 'model'>,\n",
       " <Parameter 'off2' of model 'model'>,\n",
       " <Parameter 'p_bright_fail' of model 'model'>)"
      ]
     },
     "execution_count": 101,
     "metadata": {},
     "output_type": "execute_result"
    }
   ],
   "source": [
    "model.pars"
   ]
  },
  {
   "cell_type": "code",
   "execution_count": 102,
   "metadata": {
    "collapsed": false
   },
   "outputs": [
    {
     "data": {
      "text/plain": [
       "[8.483982503179849,\n",
       " 0.2467707167847763,\n",
       " -3.6748877878223989,\n",
       " -1.3467728597990272,\n",
       " 1.5417890385789896,\n",
       " 0.32142916189875176,\n",
       " 0.005409178140324441]"
      ]
     },
     "execution_count": 102,
     "metadata": {},
     "output_type": "execute_result"
    }
   ],
   "source": [
    "parvals"
   ]
  },
  {
   "cell_type": "code",
   "execution_count": 112,
   "metadata": {
    "collapsed": false
   },
   "outputs": [
    {
     "data": {
      "text/plain": [
       "array([ 0.0406096])"
      ]
     },
     "execution_count": 112,
     "metadata": {},
     "output_type": "execute_result"
    }
   ],
   "source": [
    "p_acq_fail(SOTA2015_FIT_ONLY_1P5, None, data=None, mag=np.array([9.0]), wp=0.18)"
   ]
  },
  {
   "cell_type": "code",
   "execution_count": null,
   "metadata": {
    "collapsed": true
   },
   "outputs": [],
   "source": []
  }
 ],
 "metadata": {
  "kernelspec": {
   "display_name": "Python 2",
   "language": "python",
   "name": "python2"
  },
  "language_info": {
   "codemirror_mode": {
    "name": "ipython",
    "version": 2
   },
   "file_extension": ".py",
   "mimetype": "text/x-python",
   "name": "python",
   "nbconvert_exporter": "python",
   "pygments_lexer": "ipython2",
   "version": "2.7.9"
  }
 },
 "nbformat": 4,
 "nbformat_minor": 0
}
